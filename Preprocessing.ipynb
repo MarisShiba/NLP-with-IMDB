{
 "cells": [
  {
   "cell_type": "markdown",
   "metadata": {
    "id": "qe5XP0QhhIjk"
   },
   "source": [
    "# Table of Contents\n",
    "\n",
    "### [1. Data download](#chapter1)\n",
    "### [2. Combine datasets](#chapter2)\n",
    "- [2.1 Train positive text files](#chapter2.1)\n",
    "- [2.2 Train negative text files](#chapter2.2)\n",
    "- [2.3 Test positive text files](#chapter2.3)\n",
    "- [2.4 Test negative text files](#chapter2.4)\n",
    "\n",
    "### [3. Further Preprocessing](#chapter3)\n",
    "- [3.1 Convert texts to lower case](#chapter3.1)\n",
    "- [3.2 Remove the html tags in the texts](#chapter3.2)"
   ]
  },
  {
   "cell_type": "markdown",
   "metadata": {
    "id": "QpCsyyH2AoEu"
   },
   "source": [
    "# 1. Data download<a class=\"anchor\" id=\"chapter1\"></a>"
   ]
  },
  {
   "cell_type": "markdown",
   "metadata": {},
   "source": [
    "**Note: Output of the cell has been removed since it is irrelevant to the task and would take up too much unnecessary space if shown.**"
   ]
  },
  {
   "cell_type": "code",
   "execution_count": null,
   "metadata": {
    "colab": {
     "base_uri": "https://localhost:8080/",
     "height": 225
    },
    "id": "gEwjTzd8rqjR",
    "jupyter": {
     "outputs_hidden": true
    },
    "outputId": "d61a2181-0144-4029-9643-b891dc5ff821"
   },
   "outputs": [],
   "source": [
    "!wget https://ai.stanford.edu/~amaas/data/sentiment/aclImdb_v1.tar.gz\n",
    "!tar -xzf aclImdb_v1.tar.gz"
   ]
  },
  {
   "cell_type": "markdown",
   "metadata": {
    "id": "4N1rd9Ot_S9v"
   },
   "source": [
    "# 2. Combine datasets <a class=\"anchor\" id=\"chapter2\"></a>"
   ]
  },
  {
   "cell_type": "code",
   "execution_count": null,
   "metadata": {
    "id": "JcTLPLts_S9v"
   },
   "outputs": [],
   "source": [
    "import os, glob\n",
    "import numpy as np\n",
    "import pandas as pd"
   ]
  },
  {
   "cell_type": "markdown",
   "metadata": {
    "id": "T70YeI-S_S9w"
   },
   "source": [
    "## 2.1 Train positive text files <a class=\"anchor\" id=\"chapter2.1\"></a>"
   ]
  },
  {
   "cell_type": "code",
   "execution_count": null,
   "metadata": {
    "id": "VN-_D2SQ_S9x",
    "outputId": "b327115f-17ef-45ba-ae26-acd3c5e57b94"
   },
   "outputs": [
    {
     "name": "stdout",
     "output_type": "stream",
     "text": [
      "Wall time: 3.17 s\n"
     ]
    }
   ],
   "source": [
    "%%time\n",
    "files_folder = \"aclImdb/train/pos\"\n",
    "\n",
    "# Read all .txt files in this folder and perform some preprocessing by removing \"\\n\" and \"\\t\"\n",
    "train_pos_files = [open(file, encoding=\"utf8\").read().replace(\"\\n\", \" \").replace(\"\\t\", \" \") for \n",
    "                   file in glob.glob(os.path.join(files_folder ,\"*.txt\"))]\n",
    "\n",
    "# Put the texts into dataframes\n",
    "train_pos_files = [pd.DataFrame(file, index=[0], columns=['Comment']) for file in train_pos_files]"
   ]
  },
  {
   "cell_type": "code",
   "execution_count": null,
   "metadata": {
    "id": "f0YmkCo7_S9x",
    "outputId": "f7098433-a34a-4738-bee5-568b6a59e11e"
   },
   "outputs": [
    {
     "name": "stdout",
     "output_type": "stream",
     "text": [
      "Number of positive comments in the train set: 12500\n",
      "Preview of the dataframe:\n",
      "\n"
     ]
    },
    {
     "data": {
      "text/html": [
       "<div>\n",
       "<style scoped>\n",
       "    .dataframe tbody tr th:only-of-type {\n",
       "        vertical-align: middle;\n",
       "    }\n",
       "\n",
       "    .dataframe tbody tr th {\n",
       "        vertical-align: top;\n",
       "    }\n",
       "\n",
       "    .dataframe thead th {\n",
       "        text-align: right;\n",
       "    }\n",
       "</style>\n",
       "<table border=\"1\" class=\"dataframe\">\n",
       "  <thead>\n",
       "    <tr style=\"text-align: right;\">\n",
       "      <th></th>\n",
       "      <th>Comment</th>\n",
       "      <th>Sentiment</th>\n",
       "    </tr>\n",
       "  </thead>\n",
       "  <tbody>\n",
       "    <tr>\n",
       "      <th>0</th>\n",
       "      <td>Bromwell High is a cartoon comedy. It ran at t...</td>\n",
       "      <td>1</td>\n",
       "    </tr>\n",
       "    <tr>\n",
       "      <th>1</th>\n",
       "      <td>Homelessness (or Houselessness as George Carli...</td>\n",
       "      <td>1</td>\n",
       "    </tr>\n",
       "    <tr>\n",
       "      <th>2</th>\n",
       "      <td>Brilliant over-acting by Lesley Ann Warren. Be...</td>\n",
       "      <td>1</td>\n",
       "    </tr>\n",
       "    <tr>\n",
       "      <th>3</th>\n",
       "      <td>This is easily the most underrated film inn th...</td>\n",
       "      <td>1</td>\n",
       "    </tr>\n",
       "    <tr>\n",
       "      <th>4</th>\n",
       "      <td>This is not the typical Mel Brooks film. It wa...</td>\n",
       "      <td>1</td>\n",
       "    </tr>\n",
       "  </tbody>\n",
       "</table>\n",
       "</div>"
      ],
      "text/plain": [
       "                                             Comment  Sentiment\n",
       "0  Bromwell High is a cartoon comedy. It ran at t...          1\n",
       "1  Homelessness (or Houselessness as George Carli...          1\n",
       "2  Brilliant over-acting by Lesley Ann Warren. Be...          1\n",
       "3  This is easily the most underrated film inn th...          1\n",
       "4  This is not the typical Mel Brooks film. It wa...          1"
      ]
     },
     "execution_count": 20,
     "metadata": {},
     "output_type": "execute_result"
    }
   ],
   "source": [
    "# Concatenate all the dataframes\n",
    "train_pos = pd.concat(train_pos_files, ignore_index=True)\n",
    "\n",
    "# Create a column for these comments' labels\n",
    "train_pos['Sentiment'] = 1\n",
    "\n",
    "print(f'Number of positive comments in the train set: {train_pos.shape[0]}')\n",
    "print('Preview of the dataframe:\\n')\n",
    "train_pos.head(5)"
   ]
  },
  {
   "cell_type": "markdown",
   "metadata": {
    "id": "MNnl5oyy_S9y"
   },
   "source": [
    "## 2.2 Train negative text files <a class=\"anchor\" id=\"chapter2.2\"></a>"
   ]
  },
  {
   "cell_type": "code",
   "execution_count": null,
   "metadata": {
    "id": "DEVKRAdU_S9y",
    "outputId": "a5a0e0d0-c2b1-42e0-998e-e655aeabfe00"
   },
   "outputs": [
    {
     "name": "stdout",
     "output_type": "stream",
     "text": [
      "Number of negative comments in the train set: 12500\n",
      "Preview of the dataframe:\n",
      "\n",
      "Wall time: 3.65 s\n"
     ]
    },
    {
     "data": {
      "text/html": [
       "<div>\n",
       "<style scoped>\n",
       "    .dataframe tbody tr th:only-of-type {\n",
       "        vertical-align: middle;\n",
       "    }\n",
       "\n",
       "    .dataframe tbody tr th {\n",
       "        vertical-align: top;\n",
       "    }\n",
       "\n",
       "    .dataframe thead th {\n",
       "        text-align: right;\n",
       "    }\n",
       "</style>\n",
       "<table border=\"1\" class=\"dataframe\">\n",
       "  <thead>\n",
       "    <tr style=\"text-align: right;\">\n",
       "      <th></th>\n",
       "      <th>Comment</th>\n",
       "      <th>Sentiment</th>\n",
       "    </tr>\n",
       "  </thead>\n",
       "  <tbody>\n",
       "    <tr>\n",
       "      <th>0</th>\n",
       "      <td>Story of a man who has unnatural feelings for ...</td>\n",
       "      <td>0</td>\n",
       "    </tr>\n",
       "    <tr>\n",
       "      <th>1</th>\n",
       "      <td>Airport '77 starts as a brand new luxury 747 p...</td>\n",
       "      <td>0</td>\n",
       "    </tr>\n",
       "    <tr>\n",
       "      <th>2</th>\n",
       "      <td>This film lacked something I couldn't put my f...</td>\n",
       "      <td>0</td>\n",
       "    </tr>\n",
       "    <tr>\n",
       "      <th>3</th>\n",
       "      <td>Sorry everyone,,, I know this is supposed to b...</td>\n",
       "      <td>0</td>\n",
       "    </tr>\n",
       "    <tr>\n",
       "      <th>4</th>\n",
       "      <td>When I was little my parents took me along to ...</td>\n",
       "      <td>0</td>\n",
       "    </tr>\n",
       "  </tbody>\n",
       "</table>\n",
       "</div>"
      ],
      "text/plain": [
       "                                             Comment  Sentiment\n",
       "0  Story of a man who has unnatural feelings for ...          0\n",
       "1  Airport '77 starts as a brand new luxury 747 p...          0\n",
       "2  This film lacked something I couldn't put my f...          0\n",
       "3  Sorry everyone,,, I know this is supposed to b...          0\n",
       "4  When I was little my parents took me along to ...          0"
      ]
     },
     "execution_count": 21,
     "metadata": {},
     "output_type": "execute_result"
    }
   ],
   "source": [
    "%%time\n",
    "files_folder = \"aclImdb/train/neg\"\n",
    "\n",
    "# Read all .txt files in this folder and perform some preprocessing by removing \"\\n\" and \"\\t\"\n",
    "train_neg_files = [open(file, encoding=\"utf8\").read().replace(\"\\n\", \" \").replace(\"\\t\", \" \") for \n",
    "                   file in glob.glob(os.path.join(files_folder ,\"*.txt\"))]\n",
    "\n",
    "# Put the texts into dataframes\n",
    "train_neg_files = [pd.DataFrame(file, index=[0], columns=['Comment']) for file in train_neg_files]\n",
    "\n",
    "# Concatenate all the dataframes\n",
    "train_neg = pd.concat(train_neg_files, ignore_index=True)\n",
    "\n",
    "# Create a column for these comments' labels\n",
    "train_neg['Sentiment'] = 0\n",
    "\n",
    "print(f'Number of negative comments in the train set: {train_neg.shape[0]}')\n",
    "print('Preview of the dataframe:\\n')\n",
    "train_neg.head(5)"
   ]
  },
  {
   "cell_type": "markdown",
   "metadata": {
    "id": "a63gbeHh_S9z"
   },
   "source": [
    "## 2.3 Test positive text files <a class=\"anchor\" id=\"chapter2.3\"></a>"
   ]
  },
  {
   "cell_type": "code",
   "execution_count": null,
   "metadata": {
    "id": "YerwyBcN_S9z",
    "outputId": "1ab198db-5c87-4433-f127-114a84cf1579"
   },
   "outputs": [
    {
     "name": "stdout",
     "output_type": "stream",
     "text": [
      "Number of positive comments in the test set: 12500\n",
      "Preview of the dataframe:\n",
      "\n",
      "Wall time: 3.68 s\n"
     ]
    },
    {
     "data": {
      "text/html": [
       "<div>\n",
       "<style scoped>\n",
       "    .dataframe tbody tr th:only-of-type {\n",
       "        vertical-align: middle;\n",
       "    }\n",
       "\n",
       "    .dataframe tbody tr th {\n",
       "        vertical-align: top;\n",
       "    }\n",
       "\n",
       "    .dataframe thead th {\n",
       "        text-align: right;\n",
       "    }\n",
       "</style>\n",
       "<table border=\"1\" class=\"dataframe\">\n",
       "  <thead>\n",
       "    <tr style=\"text-align: right;\">\n",
       "      <th></th>\n",
       "      <th>Comment</th>\n",
       "      <th>Sentiment</th>\n",
       "    </tr>\n",
       "  </thead>\n",
       "  <tbody>\n",
       "    <tr>\n",
       "      <th>0</th>\n",
       "      <td>I went and saw this movie last night after bei...</td>\n",
       "      <td>1</td>\n",
       "    </tr>\n",
       "    <tr>\n",
       "      <th>1</th>\n",
       "      <td>Actor turned director Bill Paxton follows up h...</td>\n",
       "      <td>1</td>\n",
       "    </tr>\n",
       "    <tr>\n",
       "      <th>2</th>\n",
       "      <td>As a recreational golfer with some knowledge o...</td>\n",
       "      <td>1</td>\n",
       "    </tr>\n",
       "    <tr>\n",
       "      <th>3</th>\n",
       "      <td>I saw this film in a sneak preview, and it is ...</td>\n",
       "      <td>1</td>\n",
       "    </tr>\n",
       "    <tr>\n",
       "      <th>4</th>\n",
       "      <td>Bill Paxton has taken the true story of the 19...</td>\n",
       "      <td>1</td>\n",
       "    </tr>\n",
       "  </tbody>\n",
       "</table>\n",
       "</div>"
      ],
      "text/plain": [
       "                                             Comment  Sentiment\n",
       "0  I went and saw this movie last night after bei...          1\n",
       "1  Actor turned director Bill Paxton follows up h...          1\n",
       "2  As a recreational golfer with some knowledge o...          1\n",
       "3  I saw this film in a sneak preview, and it is ...          1\n",
       "4  Bill Paxton has taken the true story of the 19...          1"
      ]
     },
     "execution_count": 22,
     "metadata": {},
     "output_type": "execute_result"
    }
   ],
   "source": [
    "%%time\n",
    "files_folder = \"aclImdb/test/pos\"\n",
    "\n",
    "# Read all .txt files in this folder and perform some preprocessing by removing \"\\n\" and \"\\t\"\n",
    "test_pos_files = [open(file, encoding=\"utf8\").read().replace(\"\\n\", \" \").replace(\"\\t\", \" \") for \n",
    "                  file in glob.glob(os.path.join(files_folder ,\"*.txt\"))]\n",
    "\n",
    "# Put the texts into dataframes\n",
    "test_pos_files = [pd.DataFrame(file, index=[0], columns=['Comment']) for file in test_pos_files]\n",
    "\n",
    "# Concatenate all the dataframes\n",
    "test_pos = pd.concat(test_pos_files, ignore_index=True)\n",
    "\n",
    "# Create a column for these comments' labels\n",
    "test_pos['Sentiment'] = 1\n",
    "\n",
    "print(f'Number of positive comments in the test set: {test_pos.shape[0]}')\n",
    "print('Preview of the dataframe:\\n')\n",
    "test_pos.head(5)"
   ]
  },
  {
   "cell_type": "markdown",
   "metadata": {
    "id": "r0yakDyo_S90"
   },
   "source": [
    "## 2.4 Test negative text files <a class=\"anchor\" id=\"chapter2.4\"></a>"
   ]
  },
  {
   "cell_type": "code",
   "execution_count": null,
   "metadata": {
    "id": "JJotaB1E_S90",
    "outputId": "c8e76267-e12e-4854-b406-a75dcf2fb287"
   },
   "outputs": [
    {
     "name": "stdout",
     "output_type": "stream",
     "text": [
      "Number of negative comments in the test set: 12500\n",
      "Preview of the dataframe:\n",
      "\n",
      "Wall time: 4.07 s\n"
     ]
    },
    {
     "data": {
      "text/html": [
       "<div>\n",
       "<style scoped>\n",
       "    .dataframe tbody tr th:only-of-type {\n",
       "        vertical-align: middle;\n",
       "    }\n",
       "\n",
       "    .dataframe tbody tr th {\n",
       "        vertical-align: top;\n",
       "    }\n",
       "\n",
       "    .dataframe thead th {\n",
       "        text-align: right;\n",
       "    }\n",
       "</style>\n",
       "<table border=\"1\" class=\"dataframe\">\n",
       "  <thead>\n",
       "    <tr style=\"text-align: right;\">\n",
       "      <th></th>\n",
       "      <th>Comment</th>\n",
       "      <th>Sentiment</th>\n",
       "    </tr>\n",
       "  </thead>\n",
       "  <tbody>\n",
       "    <tr>\n",
       "      <th>0</th>\n",
       "      <td>Once again Mr. Costner has dragged out a movie...</td>\n",
       "      <td>0</td>\n",
       "    </tr>\n",
       "    <tr>\n",
       "      <th>1</th>\n",
       "      <td>This is an example of why the majority of acti...</td>\n",
       "      <td>0</td>\n",
       "    </tr>\n",
       "    <tr>\n",
       "      <th>2</th>\n",
       "      <td>First of all I hate those moronic rappers, who...</td>\n",
       "      <td>0</td>\n",
       "    </tr>\n",
       "    <tr>\n",
       "      <th>3</th>\n",
       "      <td>Not even the Beatles could write songs everyon...</td>\n",
       "      <td>0</td>\n",
       "    </tr>\n",
       "    <tr>\n",
       "      <th>4</th>\n",
       "      <td>Brass pictures (movies is not a fitting word f...</td>\n",
       "      <td>0</td>\n",
       "    </tr>\n",
       "  </tbody>\n",
       "</table>\n",
       "</div>"
      ],
      "text/plain": [
       "                                             Comment  Sentiment\n",
       "0  Once again Mr. Costner has dragged out a movie...          0\n",
       "1  This is an example of why the majority of acti...          0\n",
       "2  First of all I hate those moronic rappers, who...          0\n",
       "3  Not even the Beatles could write songs everyon...          0\n",
       "4  Brass pictures (movies is not a fitting word f...          0"
      ]
     },
     "execution_count": 23,
     "metadata": {},
     "output_type": "execute_result"
    }
   ],
   "source": [
    "%%time\n",
    "files_folder = \"aclImdb/test/neg\"\n",
    "\n",
    "# Read all .txt files in this folder and perform some preprocessing by removing \"\\n\" and \"\\t\"\n",
    "test_neg_files = [open(file, encoding=\"utf8\").read().replace(\"\\n\", \" \").replace(\"\\t\", \" \") for \n",
    "                  file in glob.glob(os.path.join(files_folder ,\"*.txt\"))]\n",
    "\n",
    "# Put the texts into dataframes\n",
    "test_neg_files = [pd.DataFrame(file, index=[0], columns=['Comment']) for file in test_neg_files]\n",
    "\n",
    "# Concatenate all the dataframes\n",
    "test_neg = pd.concat(test_neg_files, ignore_index=True)\n",
    "\n",
    "# Create a column for these comments' labels\n",
    "test_neg['Sentiment'] = 0\n",
    "\n",
    "print(f'Number of negative comments in the test set: {test_neg.shape[0]}')\n",
    "print('Preview of the dataframe:\\n')\n",
    "test_neg.head(5)"
   ]
  },
  {
   "cell_type": "markdown",
   "metadata": {
    "id": "kz3JiWMJ_S90"
   },
   "source": [
    "# 3. Further Preprocessing <a class=\"anchor\" id=\"chapter3\"></a>"
   ]
  },
  {
   "cell_type": "markdown",
   "metadata": {
    "id": "9pmQrxr__S91"
   },
   "source": [
    "## 3.1 Convert texts to lower case <a class=\"anchor\" id=\"chapter3.1\"></a>\n",
    "Stopwords can be better removed if all the texts are in lower case format."
   ]
  },
  {
   "cell_type": "code",
   "execution_count": null,
   "metadata": {
    "id": "81ntqiLO_S91"
   },
   "outputs": [],
   "source": [
    "train_pos['Comment'] = train_pos['Comment'].str.lower()\n",
    "train_neg['Comment'] = train_neg['Comment'].str.lower()\n",
    "\n",
    "test_pos['Comment'] = test_pos['Comment'].str.lower()\n",
    "test_neg['Comment'] = test_neg['Comment'].str.lower()"
   ]
  },
  {
   "cell_type": "markdown",
   "metadata": {
    "id": "AS6HBK9D_S91"
   },
   "source": [
    "## 3.2 Remove the html tags in the texts <a class=\"anchor\" id=\"chapter3.2\"></a>"
   ]
  },
  {
   "cell_type": "code",
   "execution_count": null,
   "metadata": {
    "id": "ZeosxVHJ_S91"
   },
   "outputs": [],
   "source": [
    "train_pos = train_pos.replace(to_replace=r'<.*?>', value=' ', regex=True)\n",
    "train_neg = train_neg.replace(to_replace=r'<.*?>', value=' ', regex=True)\n",
    "\n",
    "test_pos = test_pos.replace(to_replace=r'<.*?>', value=' ', regex=True)\n",
    "test_neg = test_neg.replace(to_replace=r'<.*?>', value=' ', regex=True)"
   ]
  },
  {
   "cell_type": "markdown",
   "metadata": {
    "id": "zmvhB9Cd_S92"
   },
   "source": [
    "**Note: To avoid confusion, some preprocessing steps that are specific to certain models are shown in the corresponding notebooks. These preprocessings include steps such as removal of stop words and tokenization.**"
   ]
  }
 ],
 "metadata": {
  "accelerator": "GPU",
  "colab": {
   "collapsed_sections": [],
   "name": "Preprocessing.ipynb",
   "provenance": []
  },
  "kernelspec": {
   "display_name": "Python 3",
   "language": "python",
   "name": "python3"
  },
  "language_info": {
   "codemirror_mode": {
    "name": "ipython",
    "version": 3
   },
   "file_extension": ".py",
   "mimetype": "text/x-python",
   "name": "python",
   "nbconvert_exporter": "python",
   "pygments_lexer": "ipython3",
   "version": "3.8.8"
  },
  "toc": {
   "base_numbering": 1,
   "nav_menu": {},
   "number_sections": true,
   "sideBar": true,
   "skip_h1_title": false,
   "title_cell": "Table of Contents",
   "title_sidebar": "Contents",
   "toc_cell": false,
   "toc_position": {},
   "toc_section_display": true,
   "toc_window_display": false
  },
  "varInspector": {
   "cols": {
    "lenName": 16,
    "lenType": 16,
    "lenVar": 40
   },
   "kernels_config": {
    "python": {
     "delete_cmd_postfix": "",
     "delete_cmd_prefix": "del ",
     "library": "var_list.py",
     "varRefreshCmd": "print(var_dic_list())"
    },
    "r": {
     "delete_cmd_postfix": ") ",
     "delete_cmd_prefix": "rm(",
     "library": "var_list.r",
     "varRefreshCmd": "cat(var_dic_list()) "
    }
   },
   "types_to_exclude": [
    "module",
    "function",
    "builtin_function_or_method",
    "instance",
    "_Feature"
   ],
   "window_display": false
  }
 },
 "nbformat": 4,
 "nbformat_minor": 1
}
